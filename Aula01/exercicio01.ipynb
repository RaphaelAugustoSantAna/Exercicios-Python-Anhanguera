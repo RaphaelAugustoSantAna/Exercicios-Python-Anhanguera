{
 "cells": [
  {
   "cell_type": "code",
   "execution_count": 1,
   "id": "753a3b44",
   "metadata": {},
   "outputs": [
    {
     "name": "stdout",
     "output_type": "stream",
     "text": [
      "Média: 6.5\n",
      "Situação: Aprovado\n"
     ]
    }
   ],
   "source": [
    "#utilizando Python para automatizar média dos alunos\n",
    "\n",
    "Nota_1 = int(input(\"Digite a nota 1: \"))\n",
    "Nota_2 = int(input(\"Digite a nota 2: \"))\n",
    "Nota_3 = int(input(\"Digite a nota 3: \"))\n",
    "Nota_4 = int(input(\"Digite a nota 4: \"))\n",
    "\n",
    "#observe que utilizamos a função int(), pois, sem ela, o Python entenderia que as notas seriam String\n",
    "\n",
    "#calculando media\n",
    "\n",
    "media = (Nota_1 + Nota_2 + Nota_3 + Nota_4) / 4\n",
    "\n",
    "#condição para a aprovação do aluno.\n",
    "\n",
    "if media >= 6:\n",
    "    situacao = \"Aprovado\"\n",
    "else:\n",
    "    situacao = \"Reprovado\"\n",
    "\n",
    "#dadas as notas, mostramos a média final e a situação do aluno.\n",
    "\n",
    "print(f\"Média: {media}\")\n",
    "print(f\"Situação: {situacao}\")\n"
   ]
  }
 ],
 "metadata": {
  "kernelspec": {
   "display_name": "Python 3",
   "language": "python",
   "name": "python3"
  },
  "language_info": {
   "codemirror_mode": {
    "name": "ipython",
    "version": 3
   },
   "file_extension": ".py",
   "mimetype": "text/x-python",
   "name": "python",
   "nbconvert_exporter": "python",
   "pygments_lexer": "ipython3",
   "version": "3.10.12"
  }
 },
 "nbformat": 4,
 "nbformat_minor": 5
}
