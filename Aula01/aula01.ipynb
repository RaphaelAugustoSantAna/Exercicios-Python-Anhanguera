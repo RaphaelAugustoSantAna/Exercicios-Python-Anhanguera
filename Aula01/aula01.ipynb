{
 "cells": [
  {
   "cell_type": "code",
   "execution_count": 1,
   "id": "bf8b347a",
   "metadata": {},
   "outputs": [
    {
     "name": "stdout",
     "output_type": "stream",
     "text": [
      "Hello World!\n"
     ]
    }
   ],
   "source": [
    "# Quebrando a maldição !\n",
    "print('Hello World!')"
   ]
  },
  {
   "cell_type": "code",
   "execution_count": null,
   "id": "5c254def",
   "metadata": {},
   "outputs": [
    {
     "name": "stdout",
     "output_type": "stream",
     "text": [
      "<class 'int'>\n",
      "<class 'str'>\n",
      "<class 'float'>\n",
      "<class 'bool'>\n"
     ]
    }
   ],
   "source": [
    "# Variáveis e tipos de dados\n",
    "\n",
    "# O interpretador Python consegue estabelecer o tipo de dado observando seu valor. Confira alguns exemplos:\n",
    "\n",
    "x = 10\n",
    "\n",
    "nome = \"aluno\"\n",
    "\n",
    "nota = 8.75\n",
    "\n",
    "fez_inscricao = True\n",
    "\n",
    "print(type(x))\n",
    "print(type(nome))\n",
    "print(type(nota))\n",
    "print(type(fez_inscricao))"
   ]
  }
 ],
 "metadata": {
  "kernelspec": {
   "display_name": "Python 3",
   "language": "python",
   "name": "python3"
  },
  "language_info": {
   "codemirror_mode": {
    "name": "ipython",
    "version": 3
   },
   "file_extension": ".py",
   "mimetype": "text/x-python",
   "name": "python",
   "nbconvert_exporter": "python",
   "pygments_lexer": "ipython3",
   "version": "3.10.12"
  }
 },
 "nbformat": 4,
 "nbformat_minor": 5
}
